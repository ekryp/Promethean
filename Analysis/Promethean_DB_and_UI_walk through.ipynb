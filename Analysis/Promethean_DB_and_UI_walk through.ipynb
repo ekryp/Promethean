{
 "cells": [
  {
   "cell_type": "markdown",
   "metadata": {},
   "source": [
    "# Loading Data into Ascendo DB"
   ]
  },
  {
   "cell_type": "markdown",
   "metadata": {},
   "source": [
    "1. Open GCP's model_update SSH\n",
    "\n",
    "2. Set Path to /home/hema_murthy/promethean/backend/backend_v3\n",
    "\n",
    "3. Inorder to load all new data (since code to append new data hasn't been written yet, we'll be reloading the entire DB for now), we need to truncate the following tables in Promethean DB:\n",
    "\n",
    "                    - device_sensor_data\n",
    "                    - device_work_history\n",
    "                    \n",
    "4. Now, open the fill_sensor_data.py script from the SSH directory. Update lines 59, 60 and 62 accordingly. This script is going to update the above tables. \n",
    "\n",
    "5. Run the code. This mught take a while. Get your coffee.."
   ]
  },
  {
   "cell_type": "markdown",
   "metadata": {},
   "source": [
    "# Loaded Sensor Data Details: \n",
    "Date: 29/10/2019    \n",
    "        \n",
    "    Number of Devices:  30\n",
    "    From: 2018-01-23 13:00:00\n",
    "    To: 2019-10-30 05:00:00\n",
    "    "
   ]
  },
  {
   "cell_type": "markdown",
   "metadata": {},
   "source": [
    "6. After all of sensor data and work history has been updated, open fill_incidents_v3.py and run the code\n",
    "7. Now, we need to do the insights.\n"
   ]
  }
 ],
 "metadata": {
  "kernelspec": {
   "display_name": "Python 3",
   "language": "python",
   "name": "python3"
  },
  "language_info": {
   "codemirror_mode": {
    "name": "ipython",
    "version": 3
   },
   "file_extension": ".py",
   "mimetype": "text/x-python",
   "name": "python",
   "nbconvert_exporter": "python",
   "pygments_lexer": "ipython3",
   "version": "3.5.6"
  }
 },
 "nbformat": 4,
 "nbformat_minor": 2
}
